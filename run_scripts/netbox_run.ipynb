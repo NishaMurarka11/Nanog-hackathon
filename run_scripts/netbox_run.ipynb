{
 "cells": [
  {
   "cell_type": "code",
   "execution_count": 18,
   "id": "35c7b579",
   "metadata": {},
   "outputs": [
    {
     "name": "stdout",
     "output_type": "stream",
     "text": [
      "Site CUB already exists.\n"
     ]
    },
    {
     "data": {
      "text/plain": [
       "True"
      ]
     },
     "execution_count": 18,
     "metadata": {},
     "output_type": "execute_result"
    }
   ],
   "source": [
    "### create_sites.py\n",
    "import pynetbox\n",
    "import yaml\n",
    " \n",
    "ENV_FILE = \"yml_examples/env.yml\"\n",
    "SITES_FILE = \"yml_examples/sites.yml\"\n",
    " \n",
    "with open(ENV_FILE) as file:\n",
    "    env_vars = yaml.safe_load(file)\n",
    "     \n",
    "with open(SITES_FILE) as file:\n",
    "    sites_to_load = yaml.safe_load(file)\n",
    "     \n",
    "nb_conn = pynetbox.api(url=env_vars['netbox_url'])\n",
    " \n",
    "token = nb_conn.create_token(env_vars['username'], env_vars['password'])\n",
    " \n",
    "for site in sites_to_load:\n",
    "    name = site['name'].upper()\n",
    "    slug = site['name'].lower()\n",
    "    queried_site = nb_conn.dcim.sites.get(name=name)\n",
    "    if queried_site:\n",
    "        print(f\"Site {site['name']} already exists.\")\n",
    "        continue\n",
    "    print(f\"Adding {site['name']} to Netbox.\")\n",
    "    constructed_site = {\"name\": name, \"slug\": slug}\n",
    "    if \"description\" in site.keys():\n",
    "        constructed_site['description'] = site['description']\n",
    "    if \"physical_address\" in site.keys():\n",
    "        constructed_site['physical_address'] = site['physical_address']\n",
    "    result = nb_conn.dcim.sites.create(constructed_site)\n",
    "     \n",
    "token.delete()"
   ]
  },
  {
   "cell_type": "code",
   "execution_count": 19,
   "id": "50b4a3c5",
   "metadata": {},
   "outputs": [
    {
     "name": "stdout",
     "output_type": "stream",
     "text": [
      "Adding CEOS1 to Netbox.\n",
      "Adding CEOS2 to Netbox.\n",
      "Adding CRPD1 to Netbox.\n",
      "Adding CRPD2 to Netbox.\n"
     ]
    },
    {
     "data": {
      "text/plain": [
       "True"
      ]
     },
     "execution_count": 19,
     "metadata": {},
     "output_type": "execute_result"
    }
   ],
   "source": [
    "### create_devices.py\n",
    "import pynetbox\n",
    "import yaml\n",
    " \n",
    "ENV_FILE = \"yml_examples/env.yml\"\n",
    "DEVICES_FILE = \"yml_examples/device.yml\"\n",
    " \n",
    "with open(ENV_FILE) as file:\n",
    "    env_vars = yaml.safe_load(file)\n",
    "     \n",
    "with open(DEVICES_FILE) as file:\n",
    "    devices_to_load = yaml.safe_load(file)\n",
    "     \n",
    "nb_conn = pynetbox.api(url=env_vars['netbox_url'])\n",
    " \n",
    "token = nb_conn.create_token(env_vars['username'], env_vars['password'])\n",
    " \n",
    "valid_devices_status = []\n",
    "for choice in nb_conn.dcim.devices.choices()['status']:\n",
    "    valid_devices_status.append(choice['value'])\n",
    "\n",
    "for device in devices_to_load:\n",
    "    name = device['name'].upper()\n",
    "    slug = device['name'].lower()\n",
    "     \n",
    "    queried_device = nb_conn.dcim.devices.get(name=name)\n",
    "    if queried_device:\n",
    "        print(f\"The device {name} already exists. Skipping.\")\n",
    "        continue\n",
    "     \n",
    "    dev_type = device['type'].upper()\n",
    "    queried_type = nb_conn.dcim.device_types.get(model=dev_type)\n",
    "    if isinstance(queried_type, type(None)):\n",
    "        print(f\"The type {dev_type} does not exist. Skipping.\")\n",
    "        continue\n",
    "     \n",
    "    dev_role = device['role']\n",
    "    queried_role = nb_conn.dcim.device_roles.get(name=dev_role)\n",
    "    if isinstance(queried_role, type(None)):\n",
    "        print(f\"The role {dev_role} does not exist. Skipping.\")\n",
    "        continue\n",
    "     \n",
    "    site = device['site'].upper()\n",
    "    queried_site = nb_conn.dcim.sites.get(name=site)\n",
    "    if isinstance(queried_site, type(None)):\n",
    "        print(f\"The site {site} does not exist. Skipping.\")\n",
    "        continue\n",
    "     \n",
    "     \n",
    "    constructed_device = {\"name\": name, \"slug\": slug, \"site\": queried_site.id, \"device_role\": queried_role.id, \"device_type\": queried_type.id}\n",
    "    if \"description\" in device.keys():\n",
    "        constructed_device['description'] = device['description']\n",
    "    if \"status\" in device.keys():\n",
    "        if device['status'] in valid_devices_status:\n",
    "            constructed_device['status'] = device['status']\n",
    "        else:\n",
    "            print(f\"The status of {device['status']} isn't valid. Skipping.\")\n",
    "            continue\n",
    "    print(f\"Adding {device['name']} to Netbox.\")\n",
    "    result = nb_conn.dcim.devices.create(constructed_device)\n",
    "     \n",
    "token.delete()"
   ]
  },
  {
   "cell_type": "code",
   "execution_count": 17,
   "id": "b8cc6da2",
   "metadata": {},
   "outputs": [],
   "source": [
    "import pynetbox\n",
    "import yaml\n",
    " \n",
    "ENV_FILE = \"yml_examples/env.yml\"\n",
    " \n",
    "with open(ENV_FILE) as file:\n",
    "    env_vars = yaml.safe_load(file)\n",
    "     \n",
    "nb_conn = pynetbox.api(url=env_vars['netbox_url'])\n",
    " \n",
    "token = nb_conn.create_token(env_vars['username'], env_vars['password'])\n",
    "\n",
    "my_dev = nb_conn.dcim.devices.filter(site=\"CUB\")"
   ]
  },
  {
   "cell_type": "code",
   "execution_count": 42,
   "id": "ecdcf56e",
   "metadata": {},
   "outputs": [
    {
     "name": "stdout",
     "output_type": "stream",
     "text": [
      "<class 'dict'>\n"
     ]
    }
   ],
   "source": [
    "import requests\n",
    "\n",
    "my_token = \"848317b1cbe256959db547b309e35e46aeeeb6ac\"\n",
    "head = {'Authorization': 'token {}'.format(my_token)}\n",
    "null = \"\"\n",
    "\n",
    "ceos_config = {\n",
    "    \"header\": [\n",
    "        \"! device: ceos1 (cEOSLab, EOS-4.28.3M-28837868.4283M (engineering build))\\n!\\n\"\n",
    "    ],\n",
    "    \"comments\": [],\n",
    "    \"cmds\": {\n",
    "        \"management api netconf\": {\n",
    "            \"comments\": [],\n",
    "            \"cmds\": {\n",
    "                \"transport ssh default\": {\n",
    "                    \"comments\": [],\n",
    "                    \"cmds\": {}\n",
    "                }\n",
    "            }\n",
    "        },\n",
    "        \"management api gnmi\": {\n",
    "            \"comments\": [],\n",
    "            \"cmds\": {\n",
    "                \"transport grpc default\": {\n",
    "                    \"comments\": [],\n",
    "                    \"cmds\": {}\n",
    "                }\n",
    "            }\n",
    "        },\n",
    "        \"router bgp 65000\": {\n",
    "            \"comments\": [],\n",
    "            \"cmds\": {\n",
    "                \"neighbor 10.10.0.1 maximum-routes 12000\": null,\n",
    "                \"address-family ipv4\": {\n",
    "                    \"comments\": [],\n",
    "                    \"cmds\": {\n",
    "                        \"neighbor 10.10.0.1 activate\": null,\n",
    "                        \"neighbor 10.10.1.1 activate\": null\n",
    "                    }\n",
    "                },\n",
    "                \"neighbor 10.10.1.1 maximum-routes 12000\": null,\n",
    "                \"neighbor 10.10.0.1 remote-as 65003\": null,\n",
    "                \"neighbor 2001:db8:10:10:1::1 remote-as 65001\": null,\n",
    "                \"neighbor 2001:db8:10:10::1 remote-as 65003\": null,\n",
    "                \"redistribute connected\": null,\n",
    "                \"neighbor 10.10.1.1 remote-as 65001\": null,\n",
    "                \"address-family ipv6\": {\n",
    "                    \"comments\": [],\n",
    "                    \"cmds\": {\n",
    "                        \"neighbor 2001:db8:10:10::1 activate\": null,\n",
    "                        \"neighbor 2001:db8:10:10:1::1 activate\": null\n",
    "                    }\n",
    "                }\n",
    "            }\n",
    "        },\n",
    "        \"interface Loopback0\": {\n",
    "            \"comments\": [],\n",
    "            \"cmds\": {\n",
    "                \"ipv6 address 2001:db8:0:1::/128\": null,\n",
    "                \"ip address 192.168.0.0/32\": null\n",
    "            }\n",
    "        },\n",
    "        \"username admin privilege 15 role network-admin secret sha512 $6$Z98W49v6O15ZKGW2$DlAQUoSHjUe3gphPllQhF8TUkwTNGfewwXZTaSi9h5HrKi3k0CQx8GRSpyQ3twfpd5htv05f2ZPSjnPmysT//1\": null,\n",
    "        \"transceiver qsfp default-mode 4x10G\": null,\n",
    "        \"service routing protocols model multi-agent\": null,\n",
    "        \"interface Ethernet1\": {\n",
    "            \"comments\": [],\n",
    "            \"cmds\": {\n",
    "                \"ipv6 address 2001:db8:10:10::/127\": null,\n",
    "                \"no switchport\": null,\n",
    "                \"description ceos2:Ethernet1\": null,\n",
    "                \"ip address 10.10.0.0/31\": null\n",
    "            }\n",
    "        },\n",
    "        \"ipv6 unicast-routing\": null,\n",
    "        \"management api http-commands\": {\n",
    "            \"comments\": [],\n",
    "            \"cmds\": {\n",
    "                \"protocol http\": null,\n",
    "                \"no shutdown\": null\n",
    "            }\n",
    "        },\n",
    "        \"interface Ethernet2\": {\n",
    "            \"comments\": [],\n",
    "            \"cmds\": {\n",
    "                \"no switchport\": null,\n",
    "                \"ipv6 address 2001:db8:10:10:1::/127\": null,\n",
    "                \"description srl1:ethernet-1/1\": null,\n",
    "                \"ip address 10.10.1.0/31\": null\n",
    "            }\n",
    "        },\n",
    "        \"ip routing\": null,\n",
    "        \"interface Management0\": {\n",
    "            \"comments\": [],\n",
    "            \"cmds\": {\n",
    "                \"ip address 172.22.0.2/24\": null\n",
    "            }\n",
    "        },\n",
    "        \"spanning-tree mode mstp\": null,\n",
    "        \"hostname ceos1\": null,\n",
    "        \"no aaa root\": null\n",
    "    }\n",
    "}\n",
    "print(type(ceos_config))"
   ]
  },
  {
   "cell_type": "code",
   "execution_count": 63,
   "id": "731a3cd4",
   "metadata": {},
   "outputs": [
    {
     "name": "stdout",
     "output_type": "stream",
     "text": [
      "dict_keys(['ceos1_config', 'ceos2_config'])\n"
     ]
    }
   ],
   "source": [
    "import json\n",
    "\n",
    "f = open(\"yml_examples/current_configs\")\n",
    "data = json.load(f)\n",
    "# print(data.keys())"
   ]
  },
  {
   "cell_type": "code",
   "execution_count": 65,
   "id": "ce15446b",
   "metadata": {},
   "outputs": [
    {
     "name": "stdout",
     "output_type": "stream",
     "text": [
      "Status Code: 201, Response: {'id': 7, 'url': 'http://3.18.147.34:8000/api/extras/config-contexts/7/', 'display': 'ceos1_config', 'name': 'ceos1_config', 'weight': 1000, 'description': 'ceos1_config', 'is_active': True, 'regions': [], 'site_groups': [], 'sites': [], 'locations': [], 'device_types': [], 'roles': [], 'platforms': [], 'cluster_types': [], 'cluster_groups': [], 'clusters': [], 'tenant_groups': [], 'tenants': [], 'tags': [], 'data': {'header': ['! device: ceos1 (cEOSLab, EOS-4.28.3M-28837868.4283M (engineering build))\\n!\\n'], 'comments': [], 'cmds': {'management api netconf': {'comments': [], 'cmds': {'transport ssh default': {'comments': [], 'cmds': {}}}}, 'management api gnmi': {'comments': [], 'cmds': {'transport grpc default': {'comments': [], 'cmds': {}}}}, 'router bgp 65000': {'comments': [], 'cmds': {'neighbor 10.10.0.1 maximum-routes 12000': None, 'address-family ipv4': {'comments': [], 'cmds': {'neighbor 10.10.0.1 activate': None, 'neighbor 10.10.1.1 activate': None}}, 'neighbor 10.10.1.1 maximum-routes 12000': None, 'neighbor 10.10.0.1 remote-as 65003': None, 'neighbor 2001:db8:10:10:1::1 remote-as 65001': None, 'neighbor 2001:db8:10:10::1 remote-as 65003': None, 'redistribute connected': None, 'neighbor 10.10.1.1 remote-as 65001': None, 'address-family ipv6': {'comments': [], 'cmds': {'neighbor 2001:db8:10:10::1 activate': None, 'neighbor 2001:db8:10:10:1::1 activate': None}}}}, 'interface Loopback0': {'comments': [], 'cmds': {'ipv6 address 2001:db8:0:1::/128': None, 'ip address 192.168.0.0/32': None}}, 'username admin privilege 15 role network-admin secret sha512 $6$Z98W49v6O15ZKGW2$DlAQUoSHjUe3gphPllQhF8TUkwTNGfewwXZTaSi9h5HrKi3k0CQx8GRSpyQ3twfpd5htv05f2ZPSjnPmysT//1': None, 'transceiver qsfp default-mode 4x10G': None, 'service routing protocols model multi-agent': None, 'interface Ethernet1': {'comments': [], 'cmds': {'ipv6 address 2001:db8:10:10::/127': None, 'no switchport': None, 'description ceos2:Ethernet1': None, 'ip address 10.10.0.0/31': None}}, 'ipv6 unicast-routing': None, 'management api http-commands': {'comments': [], 'cmds': {'protocol http': None, 'no shutdown': None}}, 'interface Ethernet2': {'comments': [], 'cmds': {'no switchport': None, 'ipv6 address 2001:db8:10:10:1::/127': None, 'description srl1:ethernet-1/1': None, 'ip address 10.10.1.0/31': None}}, 'ip routing': None, 'interface Management0': {'comments': [], 'cmds': {'ip address 172.22.0.2/24': None}}, 'spanning-tree mode mstp': None, 'hostname ceos1': None, 'no aaa root': None}}, 'created': '2023-02-12T20:29:14.115198Z', 'last_updated': '2023-02-12T20:29:14.115213Z'}\n",
      "Status Code: 201, Response: {'id': 8, 'url': 'http://3.18.147.34:8000/api/extras/config-contexts/8/', 'display': 'ceos2_config', 'name': 'ceos2_config', 'weight': 1000, 'description': 'ceos2_config', 'is_active': True, 'regions': [], 'site_groups': [], 'sites': [], 'locations': [], 'device_types': [], 'roles': [], 'platforms': [], 'cluster_types': [], 'cluster_groups': [], 'clusters': [], 'tenant_groups': [], 'tenants': [], 'tags': [], 'data': {'header': ['! device: ceos2 (cEOSLab, EOS-4.28.3M-28837868.4283M (engineering build))\\n!\\n'], 'comments': [], 'cmds': {'management api netconf': {'comments': [], 'cmds': {'transport ssh default': {'comments': [], 'cmds': {}}}}, 'management api gnmi': {'comments': [], 'cmds': {'transport grpc default': {'comments': [], 'cmds': {}}}}, 'interface Loopback0': {'comments': [], 'cmds': {'ipv6 address 2001:db8:0:1::3/128': None, 'ip address 192.168.0.3/32': None}}, 'router bgp 65003': {'comments': [], 'cmds': {'neighbor 2001:db8:10:10:: remote-as 65000': None, 'address-family ipv4': {'comments': [], 'cmds': {'neighbor 10.10.0.1 activate': None, 'neighbor 10.10.3.0 activate': None}}, 'address-family ipv6': {'comments': [], 'cmds': {'neighbor 2001:db8:10:10:: activate': None, 'neighbor 2001:db8:10:10:3:: activate': None}}, 'redistribute connected': None, 'neighbor 10.10.3.0 maximum-routes 12000': None, 'neighbor 10.10.0.0 maximum-routes 12000': None, 'neighbor 2001:db8:10:10:3:: remote-as 65002': None, 'neighbor 10.10.0.0 remote-as 65000': None, 'neighbor 10.10.3.0 remote-as 65002': None}}, 'ipv6 unicast-routing': None, 'transceiver qsfp default-mode 4x10G': None, 'interface Ethernet3': {'comments': [], 'cmds': {'no switchport': None, 'description centos2:eth1': None, 'ipv6 address 2001:db8:10:101::1/64': None, 'ip address 10.100.1.1/24': None}}, 'service routing protocols model multi-agent': None, 'interface Ethernet1': {'comments': [], 'cmds': {'ip address 10.10.0.1/31': None, 'no switchport': None, 'description ceos1:Ethernet1': None, 'ipv6 address 2001:db8:10:10::1/127': None}}, 'username admin privilege 15 role network-admin secret sha512 $6$Z98W49v6O15ZKGW2$DlAQUoSHjUe3gphPllQhF8TUkwTNGfewwXZTaSi9h5HrKi3k0CQx8GRSpyQ3twfpd5htv05f2ZPSjnPmysT//1': None, 'management api http-commands': {'comments': [], 'cmds': {'protocol http': None, 'no shutdown': None}}, 'interface Ethernet2': {'comments': [], 'cmds': {'ip address 10.10.3.1/31': None, 'no switchport': None, 'description srl2:ethernet-1/1': None, 'ipv6 address 2001:db8:10:10:3::1/127': None}}, 'ip routing': None, 'interface Management0': {'comments': [], 'cmds': {'ip address 172.22.0.3/24': None}}, 'spanning-tree mode mstp': None, 'hostname ceos2': None, 'no aaa root': None}}, 'created': '2023-02-12T20:29:14.267581Z', 'last_updated': '2023-02-12T20:29:14.267596Z'}\n"
     ]
    }
   ],
   "source": [
    "import pynetbox\n",
    "import yaml\n",
    "import json\n",
    "\n",
    "f = open(\"yml_examples/current_configs\")\n",
    "data = json.load(f)\n",
    " \n",
    "for key in data:\n",
    "    dev_name = key\n",
    "    config = data[key]\n",
    "    r = requests.post('http://3.18.147.34:8000/api/extras/config-contexts/', json={\n",
    "      \"name\": dev_name,\n",
    "      \"weight\": 1000,\n",
    "      \"description\": dev_name,\n",
    "      \"is_active\": \"true\",\n",
    "      \"data\":config\n",
    "    },headers=head)\n",
    "    print(f\"Status Code: {r.status_code}, Response: {r.json()}\")"
   ]
  },
  {
   "cell_type": "code",
   "execution_count": 56,
   "id": "1420933d",
   "metadata": {},
   "outputs": [
    {
     "name": "stdout",
     "output_type": "stream",
     "text": [
      "CEOS1\n",
      "<class 'pynetbox.models.dcim.DeviceTypes'>\n",
      "Status Code: 400, Response: {'name': ['config context with this name already exists.']}\n"
     ]
    }
   ],
   "source": [
    "import pynetbox\n",
    "import yaml\n",
    " \n",
    "ENV_FILE = \"yml_examples/env.yml\"\n",
    " \n",
    "with open(ENV_FILE) as file:\n",
    "    env_vars = yaml.safe_load(file)\n",
    "     \n",
    "nb_conn = pynetbox.api(url=env_vars['netbox_url'])\n",
    " \n",
    "token = nb_conn.create_token(env_vars['username'], env_vars['password'])\n",
    "\n",
    "query_device = nb_conn.dcim.devices.get(name=\"CEOS1\")\n",
    "\n",
    "dev_type = nb_conn.dcim.device_types.get(query_device.device_type.id)\n",
    "\n",
    "print(dev_type)\n",
    "print(type(dev_type))\n",
    "\n",
    "# queried_device_type = nb_conn.dcim.device.type.get(slug=\"ceos\")\n",
    "\n",
    "temp = [\n",
    "    {\n",
    "      \"id\": 16,\n",
    "      \"url\": \"http://3.18.147.34:8000/api/dcim/device-types/16/\",\n",
    "      \"display\": \"CEOS\",\n",
    "      \"manufacturer\": {\n",
    "        \"id\": 1,\n",
    "        \"url\": \"http://3.18.147.34:8000/api/dcim/manufacturers/1/\",\n",
    "        \"display\": \"Arista\",\n",
    "        \"name\": \"Arista\",\n",
    "        \"slug\": \"arista\"\n",
    "      },\n",
    "      \"model\": \"CEOS1\",\n",
    "      \"slug\": \"ceos\"\n",
    "    }\n",
    "  ]\n",
    "r = requests.post('http://3.18.147.34:8000/api/extras/config-contexts/', json={\n",
    "  \"name\": \"ceos1_conf\",\n",
    "  \"weight\": 1000,\n",
    "  \"description\": \"ceos1_conf\",\n",
    "  \"is_active\": \"true\",\n",
    "  \"data\":ceos_config,\n",
    "  \"device_type\":temp\n",
    "},headers=head)\n",
    "print(f\"Status Code: {r.status_code}, Response: {r.json()}\")\n",
    "# print(type(temp))"
   ]
  },
  {
   "cell_type": "code",
   "execution_count": null,
   "id": "0d0388ff",
   "metadata": {},
   "outputs": [],
   "source": []
  }
 ],
 "metadata": {
  "kernelspec": {
   "display_name": "Python 3",
   "language": "python",
   "name": "python3"
  },
  "language_info": {
   "codemirror_mode": {
    "name": "ipython",
    "version": 3
   },
   "file_extension": ".py",
   "mimetype": "text/x-python",
   "name": "python",
   "nbconvert_exporter": "python",
   "pygments_lexer": "ipython3",
   "version": "3.8.8"
  }
 },
 "nbformat": 4,
 "nbformat_minor": 5
}
