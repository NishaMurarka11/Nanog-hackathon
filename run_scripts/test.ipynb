{
 "cells": [
  {
   "cell_type": "code",
   "execution_count": 1,
   "id": "dccc5194",
   "metadata": {},
   "outputs": [],
   "source": [
    "import pynetbox"
   ]
  },
  {
   "cell_type": "code",
   "execution_count": 2,
   "id": "29306561",
   "metadata": {},
   "outputs": [],
   "source": [
    "nb = pynetbox.api(\"http://127.0.0.1:8000\")"
   ]
  },
  {
   "cell_type": "code",
   "execution_count": 3,
   "id": "ffe1272f",
   "metadata": {},
   "outputs": [],
   "source": [
    "token = nb.create_token(\"admin\", \"nvo123\")"
   ]
  },
  {
   "cell_type": "code",
   "execution_count": 4,
   "id": "77e36731",
   "metadata": {},
   "outputs": [
    {
     "name": "stdout",
     "output_type": "stream",
     "text": [
      "878772862e07b9f32fb63cb3947d46725981f28c\n"
     ]
    }
   ],
   "source": [
    "print(nb.token)"
   ]
  },
  {
   "cell_type": "code",
   "execution_count": null,
   "id": "39b43560",
   "metadata": {},
   "outputs": [],
   "source": []
  }
 ],
 "metadata": {
  "kernelspec": {
   "display_name": "Python 3",
   "language": "python",
   "name": "python3"
  },
  "language_info": {
   "codemirror_mode": {
    "name": "ipython",
    "version": 3
   },
   "file_extension": ".py",
   "mimetype": "text/x-python",
   "name": "python",
   "nbconvert_exporter": "python",
   "pygments_lexer": "ipython3",
   "version": "3.8.8"
  }
 },
 "nbformat": 4,
 "nbformat_minor": 5
}
